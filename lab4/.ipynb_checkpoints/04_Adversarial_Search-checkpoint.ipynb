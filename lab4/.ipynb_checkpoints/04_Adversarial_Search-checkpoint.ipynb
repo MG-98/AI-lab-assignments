{
 "cells": [
  {
   "cell_type": "markdown",
   "metadata": {
    "colab_type": "text",
    "id": "SFkTn5PKgebW"
   },
   "source": [
    "![alt text](https://zewailcity.edu.eg/main/images/logo3.png)\n",
    "\n",
    "_Prepared by_  [**Muhammad Hamdy AlAref**](mailto:malaref@zewailcity.edu.eg)"
   ]
  },
  {
   "cell_type": "markdown",
   "metadata": {
    "colab_type": "text",
    "id": "F7FzI2o-8Trc"
   },
   "source": [
    "# Adversarial Search\n",
    "\n",
    "Adversarial search algorithms are algorithms that try solving problems where other agents exist and may plan against us; also referred to as *games*!"
   ]
  },
  {
   "cell_type": "markdown",
   "metadata": {
    "colab_type": "text",
    "id": "jvuLSRhVtMOI"
   },
   "source": [
    "## Game Formulation\n",
    "\n",
    "Game formulation is very similar to *problem formulation* that we discussed before. This time with multiple agents (players)!"
   ]
  },
  {
   "cell_type": "code",
   "execution_count": 0,
   "metadata": {
    "colab": {},
    "colab_type": "code",
    "id": "IRHfjGsEuMb-"
   },
   "outputs": [],
   "source": [
    "class Game:\n",
    "    '''\n",
    "    Abstract game class for game formulation.\n",
    "    It declares the expected methods to be used by an adversarial search algorithm.\n",
    "    All the methods declared are just placeholders that throw errors if not overriden by child \"concrete\" classes!\n",
    "    '''\n",
    "    \n",
    "    def __init__(self):\n",
    "        '''Constructor that initializes the game. Typically used to setup the initial state, number of players and, if applicable, the terminal states and their utilities.'''\n",
    "        self.init_state = None\n",
    "    \n",
    "    def player(self, state):\n",
    "        '''Returns the player whose turn it is.'''\n",
    "        raise NotImplementedError\n",
    "    \n",
    "    def actions(self, state):\n",
    "        '''Returns an iterable with the applicable actions to the given state.'''\n",
    "        raise NotImplementedError\n",
    "    \n",
    "    def result(self, state, action):\n",
    "        '''Returns the resulting state from applying the given action to the given state.'''\n",
    "        raise NotImplementedError\n",
    "    \n",
    "    def terminal_test(self, state):\n",
    "        '''Returns whether or not the given state is a terminal state.'''\n",
    "        raise NotImplementedError\n",
    "    \n",
    "    def utility(self, state, player):\n",
    "        '''Returns the utility of the given state for the given player, if possible (usually, it has to be a terminal state).'''\n",
    "        raise NotImplementedError"
   ]
  },
  {
   "cell_type": "markdown",
   "metadata": {
    "colab_type": "text",
    "id": "L8dTbakevdcW"
   },
   "source": [
    "## Example: Tic-Tac-Toe\n",
    "\n",
    "Let's try formulating the quite well-known game [tic-tac-toe](https://en.wikipedia.org/wiki/Tic-tac-toe)!"
   ]
  },
  {
   "cell_type": "code",
   "execution_count": 0,
   "metadata": {
    "colab": {},
    "colab_type": "code",
    "id": "PELY8wsjz74L"
   },
   "outputs": [],
   "source": [
    "from enum import Enum\n",
    "\n",
    "class TicTacToe(Game):\n",
    "    '''Tic-tac-toe game formulation.'''\n",
    "    \n",
    "    class Players(Enum):\n",
    "        '''Enum with the players in tic-tac-toe.'''\n",
    "        X = 'X'\n",
    "        O = 'O'\n",
    "    \n",
    "    def _won(self, state, player):\n",
    "        '''Auxiliary function for checking if a player has won.'''\n",
    "        return any(all(state[0][i][j] is player for i in range(3)) for j in range(3)) \\\n",
    "            or any(all(state[0][j][i] is player for i in range(3)) for j in range(3)) \\\n",
    "            or all(state[0][i][i] is player for i in range(3))\n",
    "    \n",
    "    def __init__(self):\n",
    "        self.init_state = ((None,) * 3,) * 3, None\n",
    "    \n",
    "    def player(self, state):\n",
    "        return TicTacToe.Players.O if state[1] else TicTacToe.Players.X\n",
    "    \n",
    "    def actions(self, state):\n",
    "        return ((i, j) for i, row in enumerate(state[0]) for j, player in enumerate(row) if not player)\n",
    "    \n",
    "    def result(self, state, action):\n",
    "        mutable_grid = list(state[0])\n",
    "        mutable_row = list(mutable_grid[action[0]])\n",
    "        mutable_row[action[1]] = self.player(state)\n",
    "        mutable_grid[action[0]] = tuple(mutable_row)\n",
    "        return tuple(mutable_grid), not state[1]\n",
    "    \n",
    "    def terminal_test(self, state):\n",
    "        return all(state[0][i][j] is not None for i in range(3) for j in range(3)) or any(self._won(state, player) for player in TicTacToe.Players)\n",
    "    \n",
    "    def utility(self, state, player):\n",
    "        for p in TicTacToe.Players:\n",
    "            if self._won(state, p):\n",
    "                return 1 if p is player else -1\n",
    "        return 0"
   ]
  },
  {
   "cell_type": "markdown",
   "metadata": {
    "colab_type": "text",
    "id": "gt2v2Bej5LVG"
   },
   "source": [
    "## Minimax Algorithm\n",
    "\n",
    "Minimax algorithm is a recursive algorithm that returns the optimal move, provided the players play *optimally*, by doing a DFS search on the game tree."
   ]
  },
  {
   "cell_type": "code",
   "execution_count": 0,
   "metadata": {
    "colab": {},
    "colab_type": "code",
    "id": "z1oegnEt5NKd"
   },
   "outputs": [],
   "source": [
    "from math import inf\n",
    "\n",
    "def minimax(game, state):\n",
    "    '''Minimax implementation.'''\n",
    "    player = game.player(state)\n",
    "    def max_value(state):\n",
    "        if game.terminal_test(state): return game.utility(state, player)\n",
    "        maxi = -inf\n",
    "        for action in game.actions(state):\n",
    "            maxi = max(maxi, min_value(game.result(state, action)))\n",
    "        return maxi\n",
    "    def min_value(state):\n",
    "        if game.terminal_test(state): return game.utility(state, player)\n",
    "        mini = +inf\n",
    "        for action in game.actions(state):\n",
    "            mini = min(mini, max_value(game.result(state, action)))\n",
    "        return mini\n",
    "    return max(((min_value(game.result(state, action)), action) for action in game.actions(state)), key=lambda entry: entry[0])[1]"
   ]
  },
  {
   "cell_type": "markdown",
   "metadata": {
    "colab_type": "text",
    "id": "0coGsQ1H_xN4"
   },
   "source": [
    "## Alpha-Beta Pruning\n",
    "\n",
    "Alpha-beta pruning is a modification to the minimax algorithm that prunes sub-trees that won't affect the decision making for a great speed-up!"
   ]
  },
  {
   "cell_type": "code",
   "execution_count": 0,
   "metadata": {
    "colab": {},
    "colab_type": "code",
    "id": "F18ovpXJ_S_J"
   },
   "outputs": [],
   "source": [
    "from math import inf\n",
    "\n",
    "def alpha_beta(game, state):\n",
    "    '''Alpha-Beta Pruning implementation.'''\n",
    "    player = game.player(state)\n",
    "    def max_value(state, alpha, beta):\n",
    "        if game.terminal_test(state): return game.utility(state, player)\n",
    "        maxi = -inf\n",
    "        for action in game.actions(state):\n",
    "            maxi = max(maxi, min_value(game.result(state, action), alpha, beta))\n",
    "            alpha = max(alpha, maxi)\n",
    "            if alpha >= beta: return maxi\n",
    "        return maxi\n",
    "    def min_value(state, alpha, beta):\n",
    "        if game.terminal_test(state): return game.utility(state, player)\n",
    "        mini = +inf\n",
    "        for action in game.actions(state):\n",
    "            mini = min(mini, max_value(game.result(state, action), alpha, beta))\n",
    "            beta = min(beta, mini)\n",
    "            if alpha >= beta: return mini\n",
    "        return mini\n",
    "    return max(((min_value(game.result(state, action), -inf, +inf), action) for action in game.actions(state)), key=lambda entry: entry[0])[1]"
   ]
  },
  {
   "cell_type": "code",
   "execution_count": 0,
   "metadata": {
    "colab": {},
    "colab_type": "code",
    "id": "zSAZ062A_cs0"
   },
   "outputs": [],
   "source": [
    "game = TicTacToe()"
   ]
  },
  {
   "cell_type": "code",
   "execution_count": 0,
   "metadata": {
    "colab": {
     "base_uri": "https://localhost:8080/",
     "height": 85
    },
    "colab_type": "code",
    "id": "o0Qab50TSe1n",
    "outputId": "49f0fb94-b6db-491a-e1a7-bf64307bb048"
   },
   "outputs": [
    {
     "data": {
      "text/plain": [
       "(((<Players.X: 'X'>, <Players.X: 'X'>, <Players.O: 'O'>),\n",
       "  (<Players.X: 'X'>, <Players.O: 'O'>, <Players.X: 'X'>),\n",
       "  (<Players.O: 'O'>, <Players.O: 'O'>, <Players.X: 'X'>)),\n",
       " True)"
      ]
     },
     "execution_count": 6,
     "metadata": {
      "tags": []
     },
     "output_type": "execute_result"
    }
   ],
   "source": [
    "state = game.init_state\n",
    "while(not game.terminal_test(state)):\n",
    "    action = minimax(game, state)\n",
    "    assert action == alpha_beta(game, state)\n",
    "    state = game.result(state, action)\n",
    "state"
   ]
  },
  {
   "cell_type": "markdown",
   "metadata": {
    "colab_type": "text",
    "id": "T9K1JFg6HFH5"
   },
   "source": [
    "## Performance Comparison\n",
    "\n",
    "Now, let's compare the performance of alpha-beta pruning against the original minimax algorithm!"
   ]
  },
  {
   "cell_type": "code",
   "execution_count": 0,
   "metadata": {
    "colab": {
     "base_uri": "https://localhost:8080/",
     "height": 51
    },
    "colab_type": "code",
    "id": "iuloGHMgEHB5",
    "outputId": "c4a90fc5-7afb-46d3-a074-6cdccf82b713"
   },
   "outputs": [
    {
     "name": "stdout",
     "output_type": "stream",
     "text": [
      "(0, 0)\n",
      " "
     ]
    }
   ],
   "source": [
    "%prun print(minimax(game, game.init_state))"
   ]
  },
  {
   "cell_type": "code",
   "execution_count": 0,
   "metadata": {
    "colab": {
     "base_uri": "https://localhost:8080/",
     "height": 51
    },
    "colab_type": "code",
    "id": "PbcoPy4eEZWS",
    "outputId": "2f754d25-aa28-486c-ae0f-2458898f844c"
   },
   "outputs": [
    {
     "name": "stdout",
     "output_type": "stream",
     "text": [
      "(0, 0)\n",
      " "
     ]
    }
   ],
   "source": [
    "%prun print(alpha_beta(game, game.init_state))"
   ]
  },
  {
   "cell_type": "markdown",
   "metadata": {
    "colab_type": "text",
    "id": "mTmCsDEjeiDo"
   },
   "source": [
    "## Requirement\n",
    "\n",
    "Let's re-solve the tic-tac-toe game with heuristics!\n",
    "\n",
    "You are required to write Python code that implements the H-minimax (or H-alpha-beta) algorithm and apply it to the tic-tac-toe game and compare its performance with its regular implementation!\n",
    "\n",
    "**HINT:** You will need to edit (or inherit from) the `TicTacToe` class. You may use the heuristic evaluation function from exercise 3! $$Eval(s) = 3X_2(s)+X_1(s)-(3O_2(s) + O_1(s))$$\n",
    "\n",
    "**Estimated time for this exercise is 30 minutes!**"
   ]
  }
 ],
 "metadata": {
  "colab": {
   "collapsed_sections": [],
   "name": "04. Adversarial Search.ipynb",
   "provenance": []
  },
  "kernelspec": {
   "display_name": "Python 3",
   "language": "python",
   "name": "python3"
  },
  "language_info": {
   "codemirror_mode": {
    "name": "ipython",
    "version": 3
   },
   "file_extension": ".py",
   "mimetype": "text/x-python",
   "name": "python",
   "nbconvert_exporter": "python",
   "pygments_lexer": "ipython3",
   "version": "3.7.5"
  }
 },
 "nbformat": 4,
 "nbformat_minor": 1
}
