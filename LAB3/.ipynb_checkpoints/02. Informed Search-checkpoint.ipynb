{
 "cells": [
  {
   "cell_type": "markdown",
   "metadata": {
    "colab_type": "text",
    "id": "X0v6VymhgIi_"
   },
   "source": [
    "![alt text](https://zewailcity.edu.eg/main/images/logo3.png)\n",
    "\n",
    "_Prepared by_  [**Muhammad Hamdy AlAref**](mailto:malaref@zewailcity.edu.eg)"
   ]
  },
  {
   "cell_type": "markdown",
   "metadata": {
    "colab_type": "text",
    "id": "F7FzI2o-8Trc"
   },
   "source": [
    "# Informed Search\n",
    "\n",
    "Unlike uninformed search algorithms, informed algorithms try to take advantage of problem-specific knowledge to solve the problem more effectively. Such information can be encapsulated with what we will call a *heuristic* function. A heuristic function is an evaluation function that *estimates* the number of steps from a given state to the nearest goal state."
   ]
  },
  {
   "cell_type": "markdown",
   "metadata": {
    "colab_type": "text",
    "id": "jvuLSRhVtMOI"
   },
   "source": [
    "## Problem Formulation\n",
    "\n",
    "Problem formulation, as mentioned before, is the first step in solving it! This time with a heuristic function!"
   ]
  },
  {
   "cell_type": "code",
   "execution_count": 0,
   "metadata": {
    "colab": {},
    "colab_type": "code",
    "id": "IRHfjGsEuMb-"
   },
   "outputs": [],
   "source": [
    "class Problem:\n",
    "    '''\n",
    "    Abstract base class for problem formulation that supports a heuristic function.\n",
    "    It declares the expected methods to be used by a search algorithm.\n",
    "    All the methods declared are just placeholders that throw errors if not overriden by child \"concrete\" classes!\n",
    "    '''\n",
    "    \n",
    "    def __init__(self):\n",
    "        '''Constructor that initializes the problem. Typically used to setup the initial state and, if applicable, the goal state.'''\n",
    "        self.init_state = None\n",
    "    \n",
    "    def actions(self, state):\n",
    "        '''Returns an iterable with the applicable actions to the given state.'''\n",
    "        raise NotImplementedError\n",
    "    \n",
    "    def result(self, state, action):\n",
    "        '''Returns the resulting state from applying the given action to the given state.'''\n",
    "        raise NotImplementedError\n",
    "    \n",
    "    def goal_test(self, state):\n",
    "        '''Returns whether or not the given state is a goal state.'''\n",
    "        raise NotImplementedError\n",
    "    \n",
    "    def step_cost(self, state, action):\n",
    "        '''Returns the step cost of applying the given action to the given state.'''\n",
    "        raise NotImplementedError\n",
    "\n",
    "    def heuristic(self, state):\n",
    "        '''Returns the heuristic value of the given state, i.e., the estimated number of steps to the nearest goal state.'''\n",
    "        raise NotImplementedError"
   ]
  },
  {
   "cell_type": "markdown",
   "metadata": {
    "colab_type": "text",
    "id": "0WRs9oOUuQ0O"
   },
   "source": [
    "## Node Data Structure\n",
    "\n",
    "This is the same node structure from the uninformed search with some extra fields for informed search algorithms. Again, just a class for some required bookkeeping!"
   ]
  },
  {
   "cell_type": "code",
   "execution_count": 0,
   "metadata": {
    "colab": {},
    "colab_type": "code",
    "id": "4HD4u1fevQLG"
   },
   "outputs": [],
   "source": [
    "class Node:\n",
    "    '''Node data structure for search space bookkeeping.'''\n",
    "    \n",
    "    def __init__(self, state, parent, action, path_cost, heuristic):\n",
    "        '''Constructor for the node state with the required parameters.'''\n",
    "        self.state = state\n",
    "        self.parent = parent\n",
    "        self.action = action\n",
    "        self.g = path_cost\n",
    "        self.h = heuristic\n",
    "        self.f = path_cost + heuristic\n",
    "\n",
    "    @classmethod\n",
    "    def root(cls, problem):\n",
    "        '''Factory method to create the root node.'''\n",
    "        init_state = problem.init_state\n",
    "        return cls(init_state, None, None, 0, problem.heuristic(init_state))\n",
    "\n",
    "    @classmethod\n",
    "    def child(cls, problem, parent, action):\n",
    "        '''Factory method to create a child node.'''\n",
    "        child_state = problem.result(parent.state, action)\n",
    "        return cls(\n",
    "            child_state,\n",
    "            parent,\n",
    "            action,\n",
    "            parent.g + problem.step_cost(parent.state, action),\n",
    "            problem.heuristic(child_state))\n",
    "\n",
    "def solution(node):\n",
    "    '''A method to extract the sequence of actions representing the solution from the goal node.'''\n",
    "    actions = []\n",
    "    cost = node.g\n",
    "    while node.parent is not None:\n",
    "        actions.append(node.action)\n",
    "        node = node.parent\n",
    "    actions.reverse()\n",
    "    return actions, cost"
   ]
  },
  {
   "cell_type": "markdown",
   "metadata": {
    "colab_type": "text",
    "id": "gt2v2Bej5LVG"
   },
   "source": [
    "## Example Algorithm: Greedy Best-First Search\n",
    "\n",
    "Greedy best-first search is an informed algorithm that uses the heuristic value to choose the next node to expand. It is... well, *greedy* so it is *not optimal*! It follows the most *promising* node and that's it!"
   ]
  },
  {
   "cell_type": "code",
   "execution_count": 0,
   "metadata": {
    "colab": {},
    "colab_type": "code",
    "id": "z1oegnEt5NKd"
   },
   "outputs": [],
   "source": [
    "from heapq import heappush, heappop\n",
    "from itertools import count\n",
    "\n",
    "counter = count()\n",
    "\n",
    "def greedy_best_first(problem, verbose=False):\n",
    "    '''Greedy best-first search implementation.'''\n",
    "    frontier = [(None, None, Node.root(problem))]\n",
    "    explored = set()\n",
    "    if verbose: visualizer = Visualizer(problem)\n",
    "    while frontier:\n",
    "        if verbose: visualizer.visualize(frontier)\n",
    "        _, _, node = heappop(frontier)\n",
    "        if node.state in explored: continue\n",
    "        if problem.goal_test(node.state):\n",
    "            return solution(node)\n",
    "        explored.add(node.state)\n",
    "        for action in problem.actions(node.state):\n",
    "            child = Node.child(problem, node, action)\n",
    "            if child.state not in explored:\n",
    "                heappush(frontier, (child.h, next(counter), child))"
   ]
  },
  {
   "cell_type": "markdown",
   "metadata": {
    "colab_type": "text",
    "id": "PHiVNSlY5nY8"
   },
   "source": [
    "## Visualizer\n",
    "\n",
    "Again, this is the same `Visualizer` we used before to help visualize the algorithm's progress."
   ]
  },
  {
   "cell_type": "code",
   "execution_count": 0,
   "metadata": {
    "colab": {},
    "colab_type": "code",
    "id": "aGfP_UtV7XGg"
   },
   "outputs": [],
   "source": [
    "from shutil import get_terminal_size\n",
    "terminal_width, _ = get_terminal_size()\n",
    "\n",
    "_visualizers = {}\n",
    "\n",
    "def _default_visualizer(_, state):\n",
    "    '''Generic visualizer for unknown problems.'''\n",
    "    print(state)\n",
    "\n",
    "class Visualizer:\n",
    "    '''Visualization and printing functionality encapsulation.'''\n",
    "\n",
    "    def __init__(self, problem):\n",
    "        '''Constructor with the problem to visualize.'''\n",
    "        self.problem = problem\n",
    "        self.counter = 0\n",
    "    \n",
    "    def visualize(self, frontier):\n",
    "        '''Visualizes the frontier at every step.'''\n",
    "        self.counter += 1\n",
    "        print(f'Frontier at step {self.counter}')\n",
    "        for _, _, node in frontier:\n",
    "            print()\n",
    "            _visualizers.get(type(self.problem), _default_visualizer)(self.problem, node.state)\n",
    "        print('-' * terminal_width)"
   ]
  },
  {
   "cell_type": "markdown",
   "metadata": {
    "colab_type": "text",
    "id": "L8dTbakevdcW"
   },
   "source": [
    "## Example: Sliding Puzzle\n",
    "\n",
    "We will be using the same toy problem, [sliding puzzle](https://en.wikipedia.org/wiki/Sliding_puzzle), to see the effect of adding a heuristic function on the number of states expanded!"
   ]
  },
  {
   "cell_type": "code",
   "execution_count": 0,
   "metadata": {
    "colab": {},
    "colab_type": "code",
    "id": "PELY8wsjz74L"
   },
   "outputs": [],
   "source": [
    "class SlidingPuzzle3x3(Problem):\n",
    "    '''3x3 Sliding Puzzle problem formulation.'''\n",
    "\n",
    "    def __init__(self, init_state, goal_state):\n",
    "        assert init_state.count(' ') == 1\n",
    "        assert goal_state.count(' ') == 1\n",
    "        self.init_state = tuple(init_state)\n",
    "        self._goal_state = tuple(goal_state)\n",
    "        self._action_values = {'up': -3, 'down': +3, 'left': -1, 'right': +1}\n",
    "    \n",
    "    def actions(self, state):\n",
    "        index = state.index(' ')\n",
    "        if index // 3 > 0:\n",
    "            yield 'up'\n",
    "        if index // 3 < 2:\n",
    "            yield 'down'\n",
    "        if index % 3 > 0:\n",
    "            yield 'left'\n",
    "        if index % 3 < 2:\n",
    "            yield 'right'\n",
    "    \n",
    "    def result(self, state, action):\n",
    "        def swap(t, i, j):\n",
    "            '''Auxiliary function for swapping two elements in a tuple.'''\n",
    "            l = list(t)\n",
    "            l[i], l[j] = l[j], l[i]\n",
    "            return tuple(l)\n",
    "        index = state.index(' ')\n",
    "        return swap(state, index, index + self._action_values[action])\n",
    "    \n",
    "    def goal_test(self, state):\n",
    "        return state == self._goal_state\n",
    "    \n",
    "    def step_cost(self, state, action):\n",
    "        return 1\n",
    "    \n",
    "    def heuristic(self, state):\n",
    "        return sum(x != y for x, y in zip(state, self._goal_state))\n",
    "\n",
    "def _sliding_puzzle_3x3_visualizer(problem, state):\n",
    "    '''Custom visualizer for the 3x3 sliding puzzle problem.'''\n",
    "    for i in range(0, 9, 3):\n",
    "        print(' ' + ' '.join(state[i:i + 3]) + ' ')\n",
    "\n",
    "_visualizers[SlidingPuzzle3x3] = _sliding_puzzle_3x3_visualizer"
   ]
  },
  {
   "cell_type": "markdown",
   "metadata": {
    "colab_type": "text",
    "id": "0coGsQ1H_xN4"
   },
   "source": [
    "Let's try solving the sliding puzzle with greedy best first search!"
   ]
  },
  {
   "cell_type": "code",
   "execution_count": 0,
   "metadata": {
    "colab": {},
    "colab_type": "code",
    "id": "F18ovpXJ_S_J"
   },
   "outputs": [],
   "source": [
    "problem = SlidingPuzzle3x3('12345678 ', '123 56478')"
   ]
  },
  {
   "cell_type": "code",
   "execution_count": 0,
   "metadata": {
    "colab": {
     "base_uri": "https://localhost:8080/",
     "height": 827
    },
    "colab_type": "code",
    "executionInfo": {
     "elapsed": 3493,
     "status": "ok",
     "timestamp": 1570464561981,
     "user": {
      "displayName": "Muhammad AlAref",
      "photoUrl": "https://lh3.googleusercontent.com/a-/AAuE7mBWkTHxKPewxCS_mkmzqW3uxxg1p3i5xCY2grvd=s64",
      "userId": "04647282858620735887"
     },
     "user_tz": -120
    },
    "id": "zSAZ062A_cs0",
    "outputId": "d0b48150-9a45-4b7e-8994-763b1be6e684"
   },
   "outputs": [
    {
     "name": "stdout",
     "output_type": "stream",
     "text": [
      "Frontier at step 1\n",
      "\n",
      " 1 2 3 \n",
      " 4 5 6 \n",
      " 7 8   \n",
      "--------------------------------------------------------------------------------\n",
      "Frontier at step 2\n",
      "\n",
      " 1 2 3 \n",
      " 4 5 6 \n",
      " 7   8 \n",
      "\n",
      " 1 2 3 \n",
      " 4 5   \n",
      " 7 8 6 \n",
      "--------------------------------------------------------------------------------\n",
      "Frontier at step 3\n",
      "\n",
      " 1 2 3 \n",
      " 4 5 6 \n",
      "   7 8 \n",
      "\n",
      " 1 2 3 \n",
      " 4 5   \n",
      " 7 8 6 \n",
      "\n",
      " 1 2 3 \n",
      " 4   6 \n",
      " 7 5 8 \n",
      "--------------------------------------------------------------------------------\n",
      "Frontier at step 4\n",
      "\n",
      " 1 2 3 \n",
      "   5 6 \n",
      " 4 7 8 \n",
      "\n",
      " 1 2 3 \n",
      " 4 5   \n",
      " 7 8 6 \n",
      "\n",
      " 1 2 3 \n",
      " 4   6 \n",
      " 7 5 8 \n",
      "--------------------------------------------------------------------------------\n"
     ]
    },
    {
     "data": {
      "text/plain": [
       "(['left', 'left', 'up'], 3)"
      ]
     },
     "execution_count": 7,
     "metadata": {
      "tags": []
     },
     "output_type": "execute_result"
    }
   ],
   "source": [
    "greedy_best_first(problem, verbose=True)"
   ]
  },
  {
   "cell_type": "markdown",
   "metadata": {
    "colab_type": "text",
    "id": "T9K1JFg6HFH5"
   },
   "source": [
    "## Comparison with BFS\n",
    "\n",
    "Now, let's compare the performance of greedy best-first search against the BFS uninformed algorithm from the previous time!"
   ]
  },
  {
   "cell_type": "code",
   "execution_count": 0,
   "metadata": {
    "colab": {},
    "colab_type": "code",
    "id": "ZeweUxD8EB6Y"
   },
   "outputs": [],
   "source": [
    "from collections import deque\n",
    "\n",
    "def bfs_graph(problem, verbose=False):\n",
    "    '''Breadth-first graph search implementation.'''\n",
    "    if problem.goal_test(problem.init_state): return solution(problem.init_state)\n",
    "    frontier = deque([(None, None, Node.root(problem))])\n",
    "    explored = {problem.init_state}\n",
    "    if verbose: visualizer = Visualizer(problem)\n",
    "    while frontier:\n",
    "        if verbose: visualizer.visualize(frontier)\n",
    "        _, _, node = frontier.pop()\n",
    "        for action in problem.actions(node.state):\n",
    "            child = Node.child(problem, node, action)\n",
    "            if child.state not in explored:\n",
    "                if problem.goal_test(child.state):\n",
    "                    return solution(child)\n",
    "                frontier.appendleft((None, None, child))\n",
    "                explored.add(child.state)"
   ]
  },
  {
   "cell_type": "code",
   "execution_count": 0,
   "metadata": {
    "colab": {
     "base_uri": "https://localhost:8080/",
     "height": 73
    },
    "colab_type": "code",
    "executionInfo": {
     "elapsed": 6240,
     "status": "ok",
     "timestamp": 1570464565112,
     "user": {
      "displayName": "Muhammad AlAref",
      "photoUrl": "https://lh3.googleusercontent.com/a-/AAuE7mBWkTHxKPewxCS_mkmzqW3uxxg1p3i5xCY2grvd=s64",
      "userId": "04647282858620735887"
     },
     "user_tz": -120
    },
    "id": "iuloGHMgEHB5",
    "outputId": "4af5a8c8-d95e-47cd-c3be-3d7538300c30"
   },
   "outputs": [
    {
     "name": "stdout",
     "output_type": "stream",
     "text": [
      "(['right', 'right', 'up', 'left', 'up', 'left', 'down', 'right', 'down', 'left', 'up', 'up', 'right', 'down', 'down', 'left', 'up', 'right', 'right', 'down'], 20)\n",
      " "
     ]
    }
   ],
   "source": [
    "%prun print(bfs_graph(SlidingPuzzle3x3('183756 42', '12345678 ')))"
   ]
  },
  {
   "cell_type": "code",
   "execution_count": 0,
   "metadata": {
    "colab": {
     "base_uri": "https://localhost:8080/",
     "height": 73
    },
    "colab_type": "code",
    "executionInfo": {
     "elapsed": 6028,
     "status": "ok",
     "timestamp": 1570464565221,
     "user": {
      "displayName": "Muhammad AlAref",
      "photoUrl": "https://lh3.googleusercontent.com/a-/AAuE7mBWkTHxKPewxCS_mkmzqW3uxxg1p3i5xCY2grvd=s64",
      "userId": "04647282858620735887"
     },
     "user_tz": -120
    },
    "id": "PbcoPy4eEZWS",
    "outputId": "66789b86-ec27-40e4-fb95-e1fdd269d627"
   },
   "outputs": [
    {
     "name": "stdout",
     "output_type": "stream",
     "text": [
      "(['up', 'right', 'up', 'right', 'down', 'down', 'left', 'up', 'right', 'up', 'left', 'down', 'left', 'down', 'right', 'right', 'up', 'left', 'down', 'left', 'up', 'right', 'right', 'down'], 24)\n",
      " "
     ]
    }
   ],
   "source": [
    "%prun print(greedy_best_first(SlidingPuzzle3x3('183756 42', '12345678 ')))"
   ]
  },
  {
   "cell_type": "markdown",
   "metadata": {
    "colab_type": "text",
    "id": "mTmCsDEjeiDo"
   },
   "source": [
    "## Requirement\n",
    "\n",
    "Let's re-solve the sliding puzzle window with another informed search algorithm!\n",
    "\n",
    "You are required to write Python code that implements the A* algorithm and apply it to the sliding puzzle problem and compare the solution it finds with the one greedy best-first search found!\n",
    "\n",
    "**Estimated time for this exercise is 30 minutes!**"
   ]
  },
  {
   "cell_type": "markdown",
   "metadata": {
    "colab_type": "text",
    "id": "JuWPhAaCejI6"
   },
   "source": [
    "## Bonus Requirement\n",
    "\n",
    "The heuristic function effect is much more obvious in the maze we talked about in the previous bonus requirement. Apply uninformed and informed algorithms on your formulations and compare the number of expanded nodes!"
   ]
  },
  {
   "cell_type": "markdown",
   "metadata": {
    "colab_type": "text",
    "id": "DsA_KsMnyPlg"
   },
   "source": [
    "## _Optional_ Generic Sliding Puzzle\n",
    "\n",
    "For the sake of completeness, this is the same generalized formulation for the sliding puzzle problem that enables solving sliding puzzles of any size and labels but with the heuristic function implemented. This is completely optional.\n",
    "\n",
    "**DO NOT WASTE TIME UNDERSTANDING IT TILL YOU ARE DONE WITH THE REQUIREMENT!**"
   ]
  },
  {
   "cell_type": "code",
   "execution_count": 0,
   "metadata": {
    "colab": {},
    "colab_type": "code",
    "id": "LgyP6JqqyUxw"
   },
   "outputs": [],
   "source": [
    "class SlidingPuzzle(Problem):\n",
    "    '''Generic Sliding Puzzle problem formulation with arbitrary width and height.'''\n",
    "    \n",
    "    blank = ' '\n",
    "\n",
    "    def __init__(self, init_state, goal_state, width=None, height=None):\n",
    "        def parse(state):\n",
    "            '''Auxiliary function for parsing the input into a tuple.'''\n",
    "            blanks = set(char for char in state if not char.isalnum())\n",
    "            if len(blanks) is 1:\n",
    "                blank = blanks.pop()\n",
    "            elif len(blanks) is 2:\n",
    "                sep = blanks.pop()\n",
    "                blank = blanks.pop()\n",
    "                if state.count(blank) > state.count(sep): sep, blank = blank, sep\n",
    "                state = state.split(sep)\n",
    "            else:\n",
    "                raise ValueError\n",
    "            state = tuple(state)\n",
    "            index = state.index(blank)\n",
    "            return state[:index] + (SlidingPuzzle.blank,) + state[index + 1:]\n",
    "        self.init_state = parse(init_state)\n",
    "        self._goal_state = parse(goal_state)\n",
    "        state_len = len(self.init_state)\n",
    "        assert state_len is len(self._goal_state)\n",
    "        self._width = width if width else state_len // height if height else round(state_len ** 0.5)\n",
    "        self._height = height if height else state_len // width if width else round(state_len ** 0.5)\n",
    "        assert self._width * self._height is state_len\n",
    "        self._action_values = {'up': -self._width, 'down': +self._width, 'left': -1, 'right': +1}\n",
    "    \n",
    "    def actions(self, state):\n",
    "        index = state.index(SlidingPuzzle.blank)\n",
    "        if index // self._width > 0:\n",
    "            yield 'up'\n",
    "        if index // self._width < self._height - 1:\n",
    "            yield 'down'\n",
    "        if index % self._width > 0:\n",
    "            yield 'left'\n",
    "        if index % self._width < self._width - 1:\n",
    "            yield 'right'\n",
    "    \n",
    "    def result(self, state, action):\n",
    "        def swap(t, i, j):\n",
    "            '''Auxiliary function for swapping two elements in a tuple.'''\n",
    "            l = list(t)\n",
    "            l[i], l[j] = l[j], l[i]\n",
    "            return tuple(l)\n",
    "        index = state.index(SlidingPuzzle.blank)\n",
    "        return swap(state, index, index + self._action_values[action])\n",
    "    \n",
    "    def goal_test(self, state):\n",
    "        return state == self._goal_state\n",
    "    \n",
    "    def step_cost(self, state, action):\n",
    "        return 1\n",
    "    \n",
    "    def heuristic(self, state):\n",
    "        return sum(x != y for x, y in zip(state, self._goal_state))\n",
    "\n",
    "def _sliding_puzzle_visualizer(problem, state):\n",
    "    '''Custom visualizer for the sliding puzzle problem.'''\n",
    "    element_width = max(map(len, state))\n",
    "    for i in range(0, problem._width * problem._height, problem._width):\n",
    "        print([i.center(element_width) for i in (state[i:i + problem._width])])\n",
    "\n",
    "_visualizers[SlidingPuzzle] = _sliding_puzzle_visualizer"
   ]
  },
  {
   "cell_type": "code",
   "execution_count": 0,
   "metadata": {
    "colab": {
     "base_uri": "https://localhost:8080/",
     "height": 1000
    },
    "colab_type": "code",
    "executionInfo": {
     "elapsed": 5563,
     "status": "ok",
     "timestamp": 1570464565255,
     "user": {
      "displayName": "Muhammad AlAref",
      "photoUrl": "https://lh3.googleusercontent.com/a-/AAuE7mBWkTHxKPewxCS_mkmzqW3uxxg1p3i5xCY2grvd=s64",
      "userId": "04647282858620735887"
     },
     "user_tz": -120
    },
    "id": "6j8HoczQ2h8v",
    "outputId": "631b2167-abfa-4dd8-edcd-4929eb1ed675"
   },
   "outputs": [
    {
     "name": "stdout",
     "output_type": "stream",
     "text": [
      "Frontier at step 1\n",
      "\n",
      "['1 ', '2 ', '3 ', '4 ']\n",
      "['5 ', '6 ', '7 ', '8 ']\n",
      "['9 ', '10', '11', '12']\n",
      "['13', '14', '15', '  ']\n",
      "--------------------------------------------------------------------------------\n",
      "Frontier at step 2\n",
      "\n",
      "['1 ', '2 ', '3 ', '4 ']\n",
      "['5 ', '6 ', '7 ', '8 ']\n",
      "['9 ', '10', '11', '12']\n",
      "['13', '14', '  ', '15']\n",
      "\n",
      "['1 ', '2 ', '3 ', '4 ']\n",
      "['5 ', '6 ', '7 ', '8 ']\n",
      "['9 ', '10', '11', '  ']\n",
      "['13', '14', '15', '12']\n",
      "--------------------------------------------------------------------------------\n",
      "Frontier at step 3\n",
      "\n",
      "['1 ', '2 ', '3 ', '4 ']\n",
      "['5 ', '6 ', '7 ', '8 ']\n",
      "['9 ', '10', '11', '12']\n",
      "['13', '  ', '14', '15']\n",
      "\n",
      "['1 ', '2 ', '3 ', '4 ']\n",
      "['5 ', '6 ', '7 ', '8 ']\n",
      "['9 ', '10', '11', '  ']\n",
      "['13', '14', '15', '12']\n",
      "\n",
      "['1 ', '2 ', '3 ', '4 ']\n",
      "['5 ', '6 ', '7 ', '8 ']\n",
      "['9 ', '10', '  ', '12']\n",
      "['13', '14', '11', '15']\n",
      "--------------------------------------------------------------------------------\n",
      "Frontier at step 4\n",
      "\n",
      "['1 ', '2 ', '3 ', '4 ']\n",
      "['5 ', '6 ', '7 ', '8 ']\n",
      "['9 ', '10', '11', '12']\n",
      "['  ', '13', '14', '15']\n",
      "\n",
      "['1 ', '2 ', '3 ', '4 ']\n",
      "['5 ', '6 ', '7 ', '8 ']\n",
      "['9 ', '  ', '11', '12']\n",
      "['13', '10', '14', '15']\n",
      "\n",
      "['1 ', '2 ', '3 ', '4 ']\n",
      "['5 ', '6 ', '7 ', '8 ']\n",
      "['9 ', '10', '  ', '12']\n",
      "['13', '14', '11', '15']\n",
      "\n",
      "['1 ', '2 ', '3 ', '4 ']\n",
      "['5 ', '6 ', '7 ', '8 ']\n",
      "['9 ', '10', '11', '  ']\n",
      "['13', '14', '15', '12']\n",
      "--------------------------------------------------------------------------------\n"
     ]
    },
    {
     "data": {
      "text/plain": [
       "(['left', 'left', 'left'], 3)"
      ]
     },
     "execution_count": 12,
     "metadata": {
      "tags": []
     },
     "output_type": "execute_result"
    }
   ],
   "source": [
    "greedy_best_first(SlidingPuzzle('1 2 3 4 5 6 7 8 9 10 11 12 13 14 15 #', '1 2 3 4 5 6 7 8 9 10 11 12 # 13 14 15'), verbose=True)"
   ]
  }
 ],
 "metadata": {
  "colab": {
   "collapsed_sections": [],
   "name": "02. Informed Search.ipynb",
   "provenance": [
    {
     "file_id": "17Igj5smcMjwyNTe8nVxW8pjNCh1njp8p",
     "timestamp": 1569849924309
    }
   ]
  },
  "kernelspec": {
   "display_name": "Python 3",
   "language": "python",
   "name": "python3"
  },
  "language_info": {
   "codemirror_mode": {
    "name": "ipython",
    "version": 3
   },
   "file_extension": ".py",
   "mimetype": "text/x-python",
   "name": "python",
   "nbconvert_exporter": "python",
   "pygments_lexer": "ipython3",
   "version": "3.7.3"
  }
 },
 "nbformat": 4,
 "nbformat_minor": 1
}
