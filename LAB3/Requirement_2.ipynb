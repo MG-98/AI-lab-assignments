{
 "cells": [
  {
   "cell_type": "code",
   "execution_count": 149,
   "metadata": {},
   "outputs": [],
   "source": [
    "from collections import deque\n",
    "import numpy as np\n",
    "import math\n",
    "from heapq import heappush, heappop\n",
    "from itertools import count"
   ]
  },
  {
   "cell_type": "code",
   "execution_count": 150,
   "metadata": {},
   "outputs": [],
   "source": [
    "class Problem:\n",
    "    '''\n",
    "    Abstract base class for problem formulation.\n",
    "    It declares the expected methods to be used by a search algorithm.\n",
    "    All the methods declared are just placeholders that throw errors if not overriden by child \"concrete\" classes!\n",
    "    '''\n",
    "\n",
    "    def __init__(self):\n",
    "        '''Constructor that initializes the problem. Typically used to setup the initial state and, if applicable, the goal state.'''\n",
    "        self.init_state = None\n",
    "\n",
    "    def actions(self, state):\n",
    "        '''Returns an iterable with the applicable actions to the given state.'''\n",
    "        raise NotImplementedError\n",
    "\n",
    "    def result(self, state, action):\n",
    "        '''Returns the resulting state from applying the given action to the given state.'''\n",
    "        raise NotImplementedError\n",
    "\n",
    "    def goal_test(self, state):\n",
    "        '''Returns whether or not the given state is a goal state.'''\n",
    "        raise NotImplementedError\n",
    "\n",
    "    def step_cost(self, state, action):\n",
    "        '''Returns the step cost of applying the given action to the given state.'''\n",
    "        raise NotImplementedError\n",
    "    \n",
    "    def heuristic(self, state):\n",
    "        '''Returns the heuristic value of the given state, i.e., the estimated number of steps to the nearest goal state.'''\n",
    "        raise NotImplementedError\n",
    "\n",
    "class Node:\n",
    "    '''Node data structure for search space bookkeeping.'''\n",
    "\n",
    "    def __init__(self, state, parent, action, path_cost, heuristic):\n",
    "        '''Constructor for the node state with the required parameters.'''\n",
    "        self.state = state\n",
    "        self.parent = parent\n",
    "        self.action = action\n",
    "        self.path_cost = path_cost\n",
    "        self.g = path_cost\n",
    "        self.h = heuristic\n",
    "        self.f = path_cost + heuristic\n",
    "\n",
    "    @classmethod\n",
    "    def root(cls, init_state):\n",
    "        '''Factory method to create the root node.'''\n",
    "        init_state = problem.init_state\n",
    "        return cls(init_state, None, None, 0, problem.heuristic(init_state))\n",
    "\n",
    "    @classmethod\n",
    "    def child(cls, problem, parent, action):\n",
    "        '''Factory method to create a child node.'''\n",
    "        child_state = problem.result(parent.state, action)\n",
    "        return cls(\n",
    "            problem.result(parent.state, action),\n",
    "            parent,\n",
    "            action,\n",
    "            parent.g + problem.step_cost(parent.state, action),\n",
    "            problem.heuristic(child_state))\n",
    "    \n",
    "def solution(node):\n",
    "    '''A method to extract the sequence of actions representing the solution from the goal node.'''\n",
    "    actions = []\n",
    "    cost = node.g\n",
    "    while node.parent is not None:\n",
    "        actions.append(node.action)\n",
    "        node = node.parent\n",
    "    actions.reverse()\n",
    "    return actions, cost"
   ]
  },
  {
   "cell_type": "code",
   "execution_count": 151,
   "metadata": {},
   "outputs": [],
   "source": [
    "\n",
    "counter = count()\n",
    "\n",
    "def greedy_best_first(problem, verbose=False):\n",
    "    '''Greedy best-first search implementation.'''\n",
    "    frontier = [(None, None, Node.root(problem))]\n",
    "    explored = set()\n",
    "    #if verbose: visualizer = Visualizer(problem)\n",
    "    while frontier:\n",
    "     #   if verbose: visualizer.visualize(frontier)\n",
    "        _, _, node = heappop(frontier)\n",
    "        if node.state in explored: continue\n",
    "        if problem.goal_test(node.state):\n",
    "            return solution(node)\n",
    "        explored.add(node.state)\n",
    "        for action in problem.actions(node.state):\n",
    "            child = Node.child(problem, node, action)\n",
    "            if child.state not in explored:\n",
    "                heappush(frontier, (child.h, next(counter), child))"
   ]
  },
  {
   "cell_type": "code",
   "execution_count": 152,
   "metadata": {},
   "outputs": [],
   "source": [
    "#################### PART A #############################"
   ]
  },
  {
   "cell_type": "code",
   "execution_count": 153,
   "metadata": {},
   "outputs": [],
   "source": [
    "\n",
    "counter = count()\n",
    "\n",
    "def A_star(problem, verbose=False):\n",
    "    '''Greedy best-first search implementation.'''\n",
    "    frontier = [(None, None, Node.root(problem))]\n",
    "    explored = set()\n",
    "    #if verbose: visualizer = Visualizer(problem)\n",
    "    while frontier:\n",
    "     #   if verbose: visualizer.visualize(frontier)\n",
    "        _, _, node = heappop(frontier)\n",
    "        if node.state in explored: continue\n",
    "        if problem.goal_test(node.state):\n",
    "            return solution(node)\n",
    "        explored.add(node.state)\n",
    "        for action in problem.actions(node.state):\n",
    "            child = Node.child(problem, node, action)\n",
    "            if child.state not in explored:\n",
    "                heappush(frontier, (child.f, next(counter), child))\n",
    "                \n",
    "\n",
    "\n",
    "counter = count()\n",
    "\n",
    "def uniform_cost_search(problem, verbose=False):\n",
    "    '''Greedy best-first search implementation.'''\n",
    "    frontier = [(None, None, Node.root(problem))]\n",
    "    explored = set()\n",
    "    #if verbose: visualizer = Visualizer(problem)\n",
    "    while frontier:\n",
    "     #   if verbose: visualizer.visualize(frontier)\n",
    "        _, _, node = heappop(frontier)\n",
    "        if node.state in explored: continue\n",
    "        if problem.goal_test(node.state):\n",
    "            return solution(node)\n",
    "        explored.add(node.state)\n",
    "        for action in problem.actions(node.state):\n",
    "            child = Node.child(problem, node, action)\n",
    "            if child.state not in explored:\n",
    "                heappush(frontier, (child.g, next(counter), child))"
   ]
  },
  {
   "cell_type": "code",
   "execution_count": 154,
   "metadata": {},
   "outputs": [],
   "source": [
    "############################ PART B ###################################"
   ]
  },
  {
   "cell_type": "code",
   "execution_count": 187,
   "metadata": {},
   "outputs": [],
   "source": [
    "# formation of the problem\n",
    "class Maze(Problem):\n",
    "    '''3x3 Sliding Puzzle problem formulation.'''\n",
    "\n",
    "    def __init__(self, x1, init_state, goal_state):\n",
    "        # assert init_state.count('*') == (1,1)\n",
    "        # assert goal_state.count('*') == (1,1)\n",
    "        self.init_state = init_state\n",
    "        self._goal_state = goal_state\n",
    "        self._m = x1\n",
    "        self._action_values = {'up': (-1, 0), 'down': (1, 0), 'left': (0, -1), 'right': (0, 1)}\n",
    "\n",
    "    def actions(self, state):\n",
    "        # up\n",
    "        if state[0] - 1 > 0:\n",
    "            if self._m[(state[0] - 1, state[1])] != '#':\n",
    "                # update # swap\n",
    "                yield 'up'\n",
    "        # down\n",
    "        if state[0] + 1 < 5:\n",
    "            if self._m[(state[0] + 1, state[1])] != '#':\n",
    "                yield 'down'\n",
    "        # left\n",
    "        if state[1] - 1 > 0:\n",
    "            if self._m[(state[0], state[1] - 1)] != '#':\n",
    "                yield 'left'\n",
    "        # right\n",
    "        if state[0] - 1 < 21:\n",
    "            if self._m[(state[0], state[1] + 1)] != '#':\n",
    "                yield 'right'\n",
    "\n",
    "    def result(self, state, action):\n",
    "        def swap(i, j):\n",
    "            '''Auxiliary function for swapping two elements in a tuple.'''\n",
    "            self._m[i], self._m[j] = self._m[j], self._m[i]\n",
    "            state = j\n",
    "            return state\n",
    "\n",
    "        return swap(state, (state[0] + self._action_values[action][0], state[1] + self._action_values[action][1]))\n",
    "\n",
    "    def goal_test(self, state):\n",
    "        return state == self._goal_state\n",
    "    \n",
    "    def heuristic(self, state):\n",
    "        #return math.sqrt(sum([(a - b) ** 2 for a, b in zip(state, self._goal_state)]))\n",
    "        return sum(x != y for x, y in zip(state, self._goal_state))\n",
    "\n",
    "    def step_cost(self, state, action):\n",
    "        return 1"
   ]
  },
  {
   "cell_type": "code",
   "execution_count": 188,
   "metadata": {},
   "outputs": [],
   "source": [
    "# Preprocessing\n",
    "maze =  '''\n",
    "   #                #\n",
    "   #                #\n",
    "          ####      #\n",
    "  ##      #     #####\n",
    "  *#      #      +   \n",
    "'''\n",
    "\n",
    "def maze_preprocessing(maze):\n",
    "    maze = maze.replace(' ','0')\n",
    "    mazee = list(maze)\n",
    "    mazee.remove('\\n')\n",
    "    x = np.reshape( mazee , (5,22) )\n",
    "    x = x [x != '\\n']\n",
    "    x1 = np.reshape( x , (5,21) )\n",
    "    return x1\n",
    "\n",
    "def goal_index(x1):\n",
    "    z = np.where(x1 == '+')\n",
    "    z1  = list(z[0])[0]\n",
    "    z2 =  list(z[1])[0]\n",
    "    goal= (z1 ,z2)\n",
    "    return goal\n",
    "\n",
    "def init_index(x1):\n",
    "    z = np.where(x1 == '*')\n",
    "    z1  = list(z[0])[0]\n",
    "    z2 =  list(z[1])[0]\n",
    "    init= (z1 ,z2)\n",
    "    return init\n",
    "\n",
    "p = maze_preprocessing(maze)\n",
    "goal = goal_index(p)\n",
    "init = init_index(p)\n",
    "\n",
    "p1 = Maze( p , init , goal)\n",
    "    \n",
    "    "
   ]
  },
  {
   "cell_type": "code",
   "execution_count": 189,
   "metadata": {},
   "outputs": [],
   "source": [
    "# ADIMICABILITY in the hurestic function grantee optimality in tree\n",
    "# Consesitency in the hurestic grantee optimality in graphs"
   ]
  },
  {
   "cell_type": "code",
   "execution_count": 195,
   "metadata": {},
   "outputs": [
    {
     "name": "stdout",
     "output_type": "stream",
     "text": [
      "(['left', 'up', 'up', 'right', 'right', 'right', 'up', 'right', 'right', 'right', 'right', 'right', 'right', 'right', 'right', 'right', 'right', 'down', 'down', 'down', 'right', 'right', 'right'], 23)\n",
      " "
     ]
    }
   ],
   "source": [
    "%prun print(uniform_cost_search(p1))"
   ]
  },
  {
   "cell_type": "code",
   "execution_count": 194,
   "metadata": {},
   "outputs": [
    {
     "name": "stdout",
     "output_type": "stream",
     "text": [
      "(['left', 'up', 'up', 'right', 'right', 'right', 'up', 'right', 'right', 'right', 'right', 'right', 'right', 'right', 'right', 'right', 'right', 'down', 'down', 'down', 'right', 'right', 'right'], 23)\n",
      " "
     ]
    }
   ],
   "source": [
    "%prun print(A_star(p1))"
   ]
  },
  {
   "cell_type": "code",
   "execution_count": 192,
   "metadata": {},
   "outputs": [
    {
     "name": "stdout",
     "output_type": "stream",
     "text": [
      "(['left', 'up', 'up', 'right', 'right', 'right', 'down', 'down', 'right', 'right', 'right', 'right', 'right', 'up', 'up', 'up', 'right', 'right', 'right', 'right', 'right', 'down', 'down', 'down', 'right', 'right', 'right'], 27)\n",
      " "
     ]
    }
   ],
   "source": [
    "%prun print(greedy_best_first(p1))"
   ]
  },
  {
   "cell_type": "code",
   "execution_count": null,
   "metadata": {},
   "outputs": [],
   "source": [
    "#Comparing between the algorithms :\n",
    "\n",
    "#We will compare between the algorithms in two deimensions -if we can call it that :)- the time and the performance when we change the hueristic funstion :\n",
    "\n",
    "# 1- Eculadian distance :\n",
    "\n",
    "# A* : time :0.002         / #of swaps :    286             / #of push: 74\n",
    "# uniform search : time :  0.006       / #of swaps : 334                / #of push:85\n",
    "# greedy best first : time : 0.003        / #of swaps : 140                / #of push: 71\n",
    "\n",
    "#2- Manhattan distance\n",
    "\n",
    "# A* : time :0.009         / #of swaps :    159             / #of push:82\n",
    "# uniform search : time : 0.020       / #of swaps : 334                / #of push:85\n",
    "# greedy best first : time :  .009       / #of swaps :  131               / #of push:70\n"
   ]
  },
  {
   "cell_type": "code",
   "execution_count": null,
   "metadata": {},
   "outputs": [],
   "source": []
  }
 ],
 "metadata": {
  "kernelspec": {
   "display_name": "Python 3",
   "language": "python",
   "name": "python3"
  },
  "language_info": {
   "codemirror_mode": {
    "name": "ipython",
    "version": 3
   },
   "file_extension": ".py",
   "mimetype": "text/x-python",
   "name": "python",
   "nbconvert_exporter": "python",
   "pygments_lexer": "ipython3",
   "version": "3.7.3"
  }
 },
 "nbformat": 4,
 "nbformat_minor": 4
}
